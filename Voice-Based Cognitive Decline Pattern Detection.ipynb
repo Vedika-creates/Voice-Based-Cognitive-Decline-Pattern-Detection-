{
  "nbformat": 4,
  "nbformat_minor": 0,
  "metadata": {
    "colab": {
      "provenance": []
    },
    "kernelspec": {
      "name": "python3",
      "display_name": "Python 3"
    },
    "language_info": {
      "name": "python"
    }
  },
  "cells": [
    {
      "cell_type": "code",
      "execution_count": 1,
      "metadata": {
        "colab": {
          "base_uri": "https://localhost:8080/"
        },
        "id": "yoRLNZAl8FsK",
        "outputId": "7248b57e-6580-4f72-f62a-4abd3120c726"
      },
      "outputs": [
        {
          "output_type": "stream",
          "name": "stdout",
          "text": [
            "Requirement already satisfied: librosa in /usr/local/lib/python3.11/dist-packages (0.11.0)\n",
            "Collecting pydub\n",
            "  Downloading pydub-0.25.1-py2.py3-none-any.whl.metadata (1.4 kB)\n",
            "Collecting speechrecognition\n",
            "  Downloading speechrecognition-3.14.2-py3-none-any.whl.metadata (30 kB)\n",
            "Requirement already satisfied: numpy in /usr/local/lib/python3.11/dist-packages (2.0.2)\n",
            "Requirement already satisfied: pandas in /usr/local/lib/python3.11/dist-packages (2.2.2)\n",
            "Requirement already satisfied: matplotlib in /usr/local/lib/python3.11/dist-packages (3.10.0)\n",
            "Requirement already satisfied: seaborn in /usr/local/lib/python3.11/dist-packages (0.13.2)\n",
            "Requirement already satisfied: scikit-learn in /usr/local/lib/python3.11/dist-packages (1.6.1)\n",
            "Requirement already satisfied: transformers in /usr/local/lib/python3.11/dist-packages (4.50.3)\n",
            "Requirement already satisfied: audioread>=2.1.9 in /usr/local/lib/python3.11/dist-packages (from librosa) (3.0.1)\n",
            "Requirement already satisfied: numba>=0.51.0 in /usr/local/lib/python3.11/dist-packages (from librosa) (0.60.0)\n",
            "Requirement already satisfied: scipy>=1.6.0 in /usr/local/lib/python3.11/dist-packages (from librosa) (1.14.1)\n",
            "Requirement already satisfied: joblib>=1.0 in /usr/local/lib/python3.11/dist-packages (from librosa) (1.4.2)\n",
            "Requirement already satisfied: decorator>=4.3.0 in /usr/local/lib/python3.11/dist-packages (from librosa) (4.4.2)\n",
            "Requirement already satisfied: soundfile>=0.12.1 in /usr/local/lib/python3.11/dist-packages (from librosa) (0.13.1)\n",
            "Requirement already satisfied: pooch>=1.1 in /usr/local/lib/python3.11/dist-packages (from librosa) (1.8.2)\n",
            "Requirement already satisfied: soxr>=0.3.2 in /usr/local/lib/python3.11/dist-packages (from librosa) (0.5.0.post1)\n",
            "Requirement already satisfied: typing_extensions>=4.1.1 in /usr/local/lib/python3.11/dist-packages (from librosa) (4.13.1)\n",
            "Requirement already satisfied: lazy_loader>=0.1 in /usr/local/lib/python3.11/dist-packages (from librosa) (0.4)\n",
            "Requirement already satisfied: msgpack>=1.0 in /usr/local/lib/python3.11/dist-packages (from librosa) (1.1.0)\n",
            "Requirement already satisfied: python-dateutil>=2.8.2 in /usr/local/lib/python3.11/dist-packages (from pandas) (2.8.2)\n",
            "Requirement already satisfied: pytz>=2020.1 in /usr/local/lib/python3.11/dist-packages (from pandas) (2025.2)\n",
            "Requirement already satisfied: tzdata>=2022.7 in /usr/local/lib/python3.11/dist-packages (from pandas) (2025.2)\n",
            "Requirement already satisfied: contourpy>=1.0.1 in /usr/local/lib/python3.11/dist-packages (from matplotlib) (1.3.1)\n",
            "Requirement already satisfied: cycler>=0.10 in /usr/local/lib/python3.11/dist-packages (from matplotlib) (0.12.1)\n",
            "Requirement already satisfied: fonttools>=4.22.0 in /usr/local/lib/python3.11/dist-packages (from matplotlib) (4.57.0)\n",
            "Requirement already satisfied: kiwisolver>=1.3.1 in /usr/local/lib/python3.11/dist-packages (from matplotlib) (1.4.8)\n",
            "Requirement already satisfied: packaging>=20.0 in /usr/local/lib/python3.11/dist-packages (from matplotlib) (24.2)\n",
            "Requirement already satisfied: pillow>=8 in /usr/local/lib/python3.11/dist-packages (from matplotlib) (11.1.0)\n",
            "Requirement already satisfied: pyparsing>=2.3.1 in /usr/local/lib/python3.11/dist-packages (from matplotlib) (3.2.3)\n",
            "Requirement already satisfied: threadpoolctl>=3.1.0 in /usr/local/lib/python3.11/dist-packages (from scikit-learn) (3.6.0)\n",
            "Requirement already satisfied: filelock in /usr/local/lib/python3.11/dist-packages (from transformers) (3.18.0)\n",
            "Requirement already satisfied: huggingface-hub<1.0,>=0.26.0 in /usr/local/lib/python3.11/dist-packages (from transformers) (0.30.1)\n",
            "Requirement already satisfied: pyyaml>=5.1 in /usr/local/lib/python3.11/dist-packages (from transformers) (6.0.2)\n",
            "Requirement already satisfied: regex!=2019.12.17 in /usr/local/lib/python3.11/dist-packages (from transformers) (2024.11.6)\n",
            "Requirement already satisfied: requests in /usr/local/lib/python3.11/dist-packages (from transformers) (2.32.3)\n",
            "Requirement already satisfied: tokenizers<0.22,>=0.21 in /usr/local/lib/python3.11/dist-packages (from transformers) (0.21.1)\n",
            "Requirement already satisfied: safetensors>=0.4.3 in /usr/local/lib/python3.11/dist-packages (from transformers) (0.5.3)\n",
            "Requirement already satisfied: tqdm>=4.27 in /usr/local/lib/python3.11/dist-packages (from transformers) (4.67.1)\n",
            "Requirement already satisfied: fsspec>=2023.5.0 in /usr/local/lib/python3.11/dist-packages (from huggingface-hub<1.0,>=0.26.0->transformers) (2025.3.2)\n",
            "Requirement already satisfied: llvmlite<0.44,>=0.43.0dev0 in /usr/local/lib/python3.11/dist-packages (from numba>=0.51.0->librosa) (0.43.0)\n",
            "Requirement already satisfied: platformdirs>=2.5.0 in /usr/local/lib/python3.11/dist-packages (from pooch>=1.1->librosa) (4.3.7)\n",
            "Requirement already satisfied: six>=1.5 in /usr/local/lib/python3.11/dist-packages (from python-dateutil>=2.8.2->pandas) (1.17.0)\n",
            "Requirement already satisfied: charset-normalizer<4,>=2 in /usr/local/lib/python3.11/dist-packages (from requests->transformers) (3.4.1)\n",
            "Requirement already satisfied: idna<4,>=2.5 in /usr/local/lib/python3.11/dist-packages (from requests->transformers) (3.10)\n",
            "Requirement already satisfied: urllib3<3,>=1.21.1 in /usr/local/lib/python3.11/dist-packages (from requests->transformers) (2.3.0)\n",
            "Requirement already satisfied: certifi>=2017.4.17 in /usr/local/lib/python3.11/dist-packages (from requests->transformers) (2025.1.31)\n",
            "Requirement already satisfied: cffi>=1.0 in /usr/local/lib/python3.11/dist-packages (from soundfile>=0.12.1->librosa) (1.17.1)\n",
            "Requirement already satisfied: pycparser in /usr/local/lib/python3.11/dist-packages (from cffi>=1.0->soundfile>=0.12.1->librosa) (2.22)\n",
            "Downloading pydub-0.25.1-py2.py3-none-any.whl (32 kB)\n",
            "Downloading speechrecognition-3.14.2-py3-none-any.whl (32.9 MB)\n",
            "\u001b[2K   \u001b[90m━━━━━━━━━━━━━━━━━━━━━━━━━━━━━━━━━━━━━━━━\u001b[0m \u001b[32m32.9/32.9 MB\u001b[0m \u001b[31m15.9 MB/s\u001b[0m eta \u001b[36m0:00:00\u001b[0m\n",
            "\u001b[?25hInstalling collected packages: pydub, speechrecognition\n",
            "Successfully installed pydub-0.25.1 speechrecognition-3.14.2\n"
          ]
        }
      ],
      "source": [
        "pip install librosa pydub speechrecognition numpy pandas matplotlib seaborn scikit-learn transformers\n"
      ]
    },
    {
      "cell_type": "code",
      "source": [
        "import librosa\n",
        "import librosa\n",
        "import numpy as np\n",
        "\n",
        "def load_audio(file_path):\n",
        "    y, sr = librosa.load(file_path, sr=16000)\n",
        "    return y, sr\n"
      ],
      "metadata": {
        "id": "XVd750Tx8JZQ"
      },
      "execution_count": 4,
      "outputs": []
    },
    {
      "cell_type": "code",
      "source": [
        "import librosa\n",
        "import numpy as np\n",
        "import matplotlib.pyplot as plt\n",
        "import soundfile as sf\n",
        "import speech_recognition as sr\n",
        "from sklearn.preprocessing import StandardScaler\n",
        "from sklearn.decomposition import PCA\n",
        "from sklearn.cluster import KMeans\n",
        "import re"
      ],
      "metadata": {
        "id": "Rpj7zYEL8PpW"
      },
      "execution_count": 5,
      "outputs": []
    },
    {
      "cell_type": "code",
      "source": [
        "file_path = '/content/harvard.wav'\n",
        "y, sr_ = librosa.load(file_path, sr=None)\n"
      ],
      "metadata": {
        "id": "r1zcOhH2-_-U"
      },
      "execution_count": 7,
      "outputs": []
    },
    {
      "cell_type": "code",
      "source": [
        "def extract_audio_features(y, sr_):\n",
        "    duration = librosa.get_duration(y=y, sr=sr_)\n",
        "    tempo, _ = librosa.beat.beat_track(y=y, sr=sr_)\n",
        "    pitches, magnitudes = librosa.piptrack(y=y, sr=sr_)\n",
        "    pitch_values = pitches[magnitudes > np.median(magnitudes)]\n",
        "    pitch_var = np.std(pitch_values)\n",
        "\n",
        "    # Silence detection\n",
        "    intervals = librosa.effects.split(y, top_db=30)\n",
        "    pauses = len(intervals)\n",
        "    speech_rate = len(intervals) / duration\n",
        "\n",
        "    return {\n",
        "        \"duration_sec\": duration,\n",
        "        \"tempo\": tempo,\n",
        "        \"pitch_variability\": pitch_var,\n",
        "        \"pauses\": pauses,\n",
        "        \"speech_rate\": speech_rate\n",
        "    }\n"
      ],
      "metadata": {
        "id": "24DIqeYi_YYx"
      },
      "execution_count": 12,
      "outputs": []
    },
    {
      "cell_type": "code",
      "source": [
        "features = extract_audio_features(y, sr_)\n",
        "print(\"Extracted Audio Features:\", features)"
      ],
      "metadata": {
        "colab": {
          "base_uri": "https://localhost:8080/"
        },
        "id": "k9fezUXJ_mhl",
        "outputId": "6b04da48-c4dc-43fc-a0b2-9ac4bff6d1a5"
      },
      "execution_count": 14,
      "outputs": [
        {
          "output_type": "stream",
          "name": "stdout",
          "text": [
            "Extracted Audio Features: {'duration_sec': 18.356190476190477, 'tempo': array([107.66601562]), 'pitch_variability': np.float32(1150.8677), 'pauses': 43, 'speech_rate': 2.342533983604856}\n"
          ]
        }
      ]
    },
    {
      "cell_type": "code",
      "source": [
        "recognizer = sr.Recognizer()\n",
        "with sr.AudioFile(file_path) as source:\n",
        "    audio_data = recognizer.record(source)\n",
        "    try:\n",
        "        text = recognizer.recognize_google(audio_data)\n",
        "    except sr.UnknownValueError:\n",
        "        text = \"[Unrecognized speech]\"\n",
        "\n",
        "print(\"Transcript:\", text)"
      ],
      "metadata": {
        "colab": {
          "base_uri": "https://localhost:8080/"
        },
        "id": "PQr_7tQ4_vYy",
        "outputId": "ab1f1921-172e-4a41-abae-6cf7cdf8848e"
      },
      "execution_count": 15,
      "outputs": [
        {
          "output_type": "stream",
          "name": "stdout",
          "text": [
            "Transcript: does snail smell of old beer lingers it takes heat to bring out the odor a cold dip restores health and zest a salt pickle taste fine with ham tacos al pastor are my favorite a zestful food is the hot cross bun\n"
          ]
        }
      ]
    },
    {
      "cell_type": "code",
      "source": [
        "# 3. NLP-based Features\n",
        "def extract_text_features(text):\n",
        "    words = text.split()\n",
        "    hesitations = len([w for w in words if w.lower() in [\"um\", \"uh\", \"erm\"]])\n",
        "    word_count = len(words)\n",
        "    hesitation_rate = hesitations / word_count if word_count else 0\n",
        "\n",
        "    incomplete_sentences = len(re.findall(r'[^\\.\\!\\?]$', text)) > 0\n",
        "    return {\n",
        "        \"word_count\": word_count,\n",
        "        \"hesitation_markers\": hesitations,\n",
        "        \"hesitation_rate\": hesitation_rate,\n",
        "        \"incomplete_sentences\": int(incomplete_sentences)\n",
        "    }\n",
        "\n",
        "text_features = extract_text_features(text)\n",
        "print(\"Text-Based Features:\", text_features)"
      ],
      "metadata": {
        "colab": {
          "base_uri": "https://localhost:8080/"
        },
        "id": "qmQkl9l2_20h",
        "outputId": "aef58c3a-4d7d-4ddc-c09d-cfd433a09efb"
      },
      "execution_count": 16,
      "outputs": [
        {
          "output_type": "stream",
          "name": "stdout",
          "text": [
            "Text-Based Features: {'word_count': 43, 'hesitation_markers': 0, 'hesitation_rate': 0.0, 'incomplete_sentences': 1}\n"
          ]
        }
      ]
    },
    {
      "cell_type": "code",
      "source": [
        "# 4. Combine All Features for Modeling\n",
        "import numpy as np\n",
        "\n",
        "all_features = {**features, **text_features}\n",
        "\n",
        "# Convert all values to numeric types if possible\n",
        "# Check for nested structures (lists, arrays) and flatten them\n",
        "numeric_features = []\n",
        "for value in all_features.values():\n",
        "    if isinstance(value, (int, float)):\n",
        "        numeric_features.append(value)\n",
        "    elif isinstance(value, (list, np.ndarray)):\n",
        "        numeric_features.extend(value)  # Flatten nested structures\n",
        "    else:\n",
        "        try:\n",
        "            numeric_features.append(float(value))  # Try converting to float\n",
        "        except (ValueError, TypeError):\n",
        "            print(f\"Skipping feature: {value} (Non-numeric type)\")\n",
        "\n",
        "# Create NumPy array from the numeric features\n",
        "X = np.array(numeric_features).reshape(1, -1)"
      ],
      "metadata": {
        "id": "x7I2RkHg__3_"
      },
      "execution_count": 18,
      "outputs": []
    },
    {
      "cell_type": "code",
      "source": [
        "X_sim = np.vstack([X + np.random.normal(0, 0.05, X.shape) for _ in range(10)])"
      ],
      "metadata": {
        "id": "Gk8D7guOAZ6e"
      },
      "execution_count": 19,
      "outputs": []
    },
    {
      "cell_type": "code",
      "source": [
        "# 5. Clustering for Cognitive Risk Detection\n",
        "scaler = StandardScaler()\n",
        "X_scaled = scaler.fit_transform(X_sim)"
      ],
      "metadata": {
        "id": "x8dru-ReAeii"
      },
      "execution_count": 20,
      "outputs": []
    },
    {
      "cell_type": "code",
      "source": [
        "pca = PCA(n_components=2)\n",
        "X_pca = pca.fit_transform(X_scaled)"
      ],
      "metadata": {
        "id": "s_4rDF0UAgft"
      },
      "execution_count": 21,
      "outputs": []
    },
    {
      "cell_type": "code",
      "source": [
        "kmeans = KMeans(n_clusters=2, random_state=0)\n",
        "labels = kmeans.fit_predict(X_scaled)"
      ],
      "metadata": {
        "id": "lRS7qY0BAiic"
      },
      "execution_count": 22,
      "outputs": []
    },
    {
      "cell_type": "code",
      "source": [
        "# 6. Visualize Results\n",
        "plt.figure(figsize=(8, 5))\n",
        "plt.scatter(X_pca[:, 0], X_pca[:, 1], c=labels, cmap='coolwarm')\n",
        "plt.title(\"Cognitive Decline Clustering (Simulated Samples)\")\n",
        "plt.xlabel(\"PCA 1\")\n",
        "plt.ylabel(\"PCA 2\")\n",
        "plt.grid(True)\n",
        "plt.show()\n"
      ],
      "metadata": {
        "colab": {
          "base_uri": "https://localhost:8080/",
          "height": 487
        },
        "id": "wD_v444_Akbh",
        "outputId": "4d245002-5cac-44d6-a4f8-66f0d34c140c"
      },
      "execution_count": 23,
      "outputs": [
        {
          "output_type": "display_data",
          "data": {
            "text/plain": [
              "<Figure size 800x500 with 1 Axes>"
            ],
            "image/png": "[encoded data removed]"
          },
          "metadata": {}
        }
      ]
    },
    {
      "cell_type": "code",
      "source": [],
      "metadata": {
        "id": "Hu3U_lgHAo2f"
      },
      "execution_count": null,
      "outputs": []
    }
  ]
}